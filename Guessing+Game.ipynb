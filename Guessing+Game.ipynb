{
 "cells": [
  {
   "cell_type": "code",
   "execution_count": 2,
   "metadata": {},
   "outputs": [],
   "source": [
    "import random\n",
    "\n",
    "def askToContinue():\n",
    "    while True :\n",
    "        choice = str(input('Do you wish to continue? (Y/N)  '))\n",
    "        choice = choice.lower()\n",
    "        if choice == 'y':return True\n",
    "        elif choice =='n':return False\n",
    "        else: continue\n",
    "            \n",
    "def guessGame():\n",
    "    number = random.randint(1,100)\n",
    "    guess = []\n",
    "    while True:\n",
    "        pl = int(input('The Computer has chosen a number from 1 to 100, what do you think it is ?  '))\n",
    "        if 1<=pl<=100: \n",
    "            guess.append(pl)\n",
    "            if abs(number - pl) <= 10 : print('WARM!')\n",
    "            else: print('COLD!')\n",
    "            break\n",
    "        else: print('OUT OF BOUNDS')\n",
    "    while True:\n",
    "        pl = int(input('Have another guess :  '))\n",
    "        if 1<=pl<=100: \n",
    "            guess.append(pl)\n",
    "            trials = len(guess)\n",
    "            if pl == number :\n",
    "                print(f\"Correct!\\nThe computer indeed picked {number}\\nIt took you {trials} trials to get it.\")\n",
    "                break\n",
    "            if abs(number - pl) <= abs(number - guess[-2]) : print('WARMER!')\n",
    "            else: print('COLDER!')        \n",
    "        else: print('OUT OF BOUNDS')\n",
    "    if askToContinue(): guessGame()"
   ]
  }
 ],
 "metadata": {
  "kernelspec": {
   "display_name": "Python 3",
   "language": "python",
   "name": "python3"
  },
  "language_info": {
   "codemirror_mode": {
    "name": "ipython",
    "version": 3
   },
   "file_extension": ".py",
   "mimetype": "text/x-python",
   "name": "python",
   "nbconvert_exporter": "python",
   "pygments_lexer": "ipython3",
   "version": "3.6.1"
  }
 },
 "nbformat": 4,
 "nbformat_minor": 2
}
